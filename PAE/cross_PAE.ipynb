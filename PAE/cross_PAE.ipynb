{
 "cells": [
  {
   "cell_type": "code",
   "execution_count": 29,
   "metadata": {},
   "outputs": [],
   "source": [
    "from IPython.display import clear_output, display\n",
    "from ipyfilechooser import FileChooser\n",
    "import nglview as nv\n",
    "import ipywidgets as widgets\n",
    "\n",
    "import numpy as np\n",
    "\n",
    "import pandas as pd\n",
    "import json\n",
    "import matplotlib.pyplot as plt\n",
    "import argparse\n",
    "from pathlib import Path\n",
    "from tqdm import tqdm\n"
   ]
  },
  {
   "cell_type": "code",
   "execution_count": 6,
   "metadata": {},
   "outputs": [],
   "source": [
    "!cd examples"
   ]
  },
  {
   "cell_type": "code",
   "execution_count": 2,
   "metadata": {},
   "outputs": [],
   "source": [
    "def read_json(file):\n",
    "    f = open(file)\n",
    "    data = json.load(f)\n",
    "    return data\n",
    "\n",
    "def create_and_fill_matrix(data):\n",
    "    ndata = len((data[0][\"residue1\"]))\n",
    "    numres = int(np.sqrt(ndata))\n",
    "    matrix = np.zeros((numres,numres), dtype=np.float32)\n",
    "\n",
    "    for i in range(ndata):\n",
    "        res1 = data[0][\"residue1\"][i] -1 # -1 to be 0 based\n",
    "        res2 = data[0][\"residue2\"][i] -1 # -1 to be 0 based\n",
    "        value = data[0][\"distance\"][i]\n",
    "        matrix[res1,res2] = value\n",
    "    return(matrix)\n",
    "\n",
    "def show_matrix(matrix):\n",
    "    sns.heatmap(matrix)\n",
    "    plt.show()\n",
    "\n",
    "\n",
    "def search_inter_complex(matrix, separation, distance):\n",
    "    underDistance = np.argwhere(matrix <= distance)\n",
    "\n",
    "    separation0 = separation-1 # (0based)\n",
    "    keep = []\n",
    "    for pair in underDistance:\n",
    "        res1 = pair[0]\n",
    "        res2=pair[1]\n",
    "        if res1 <= separation0 and res2 > separation0:\n",
    "            keep.append((res1+1,res2+1,matrix[res1,res2])) #+1 to be on 1 based index\n",
    "\n",
    "    return(keep)\n",
    "\n",
    "\n",
    "def save_data(data, matrix, output, separation):\n",
    "    basename = Path(output).stem\n",
    "\n",
    "    #Basic figure\n",
    "    fig,ax = plt.subplots(figsize=(11,8))\n",
    "    g = sns.heatmap(matrix, ax=ax)\n",
    "    g.set(title=basename)\n",
    "    plt.savefig(f\"{basename}.png\", dpi=300)\n",
    "\n",
    "    #data in csv format.\n",
    "    df = pd.DataFrame(data, columns=[\"Residue A\",\"Residue B\", \"PAE\"])\n",
    "    #reset residue2 index\n",
    "    df[\"Residue B (index corrected)\"] = df[\"Residue B\"] % separation\n",
    "    df.to_csv(f\"{basename}.csv\", index=False, sep=\";\")"
   ]
  },
  {
   "cell_type": "markdown",
   "metadata": {},
   "source": []
  },
  {
   "cell_type": "code",
   "execution_count": 19,
   "metadata": {},
   "outputs": [],
   "source": [
    "    data = read_json(\"rank_1_model_3_ptm_seed_0_pae.json\")\n",
    "    matrix = create_and_fill_matrix(data)\n",
    "    crossContact = search_inter_complex(matrix, 334, 10)\n",
    "    df = pd.DataFrame(crossContact, columns=[\"Residue A\",\"Residue B\", \"PAE\"])\n",
    "    #reset residue2 index\n",
    "    df[\"Residue B_chainB\"] = df[\"Residue B\"] % 334"
   ]
  },
  {
   "cell_type": "code",
   "execution_count": 20,
   "metadata": {},
   "outputs": [
    {
     "data": {
      "text/html": [
       "<div>\n",
       "<style scoped>\n",
       "    .dataframe tbody tr th:only-of-type {\n",
       "        vertical-align: middle;\n",
       "    }\n",
       "\n",
       "    .dataframe tbody tr th {\n",
       "        vertical-align: top;\n",
       "    }\n",
       "\n",
       "    .dataframe thead th {\n",
       "        text-align: right;\n",
       "    }\n",
       "</style>\n",
       "<table border=\"1\" class=\"dataframe\">\n",
       "  <thead>\n",
       "    <tr style=\"text-align: right;\">\n",
       "      <th></th>\n",
       "      <th>Residue A</th>\n",
       "      <th>Residue B</th>\n",
       "      <th>PAE</th>\n",
       "      <th>Residue B_chainB</th>\n",
       "    </tr>\n",
       "  </thead>\n",
       "  <tbody>\n",
       "    <tr>\n",
       "      <th>0</th>\n",
       "      <td>120</td>\n",
       "      <td>428</td>\n",
       "      <td>10.0</td>\n",
       "      <td>94</td>\n",
       "    </tr>\n",
       "    <tr>\n",
       "      <th>1</th>\n",
       "      <td>120</td>\n",
       "      <td>432</td>\n",
       "      <td>9.8</td>\n",
       "      <td>98</td>\n",
       "    </tr>\n",
       "    <tr>\n",
       "      <th>2</th>\n",
       "      <td>122</td>\n",
       "      <td>425</td>\n",
       "      <td>9.5</td>\n",
       "      <td>91</td>\n",
       "    </tr>\n",
       "    <tr>\n",
       "      <th>3</th>\n",
       "      <td>122</td>\n",
       "      <td>426</td>\n",
       "      <td>8.3</td>\n",
       "      <td>92</td>\n",
       "    </tr>\n",
       "    <tr>\n",
       "      <th>4</th>\n",
       "      <td>122</td>\n",
       "      <td>427</td>\n",
       "      <td>9.0</td>\n",
       "      <td>93</td>\n",
       "    </tr>\n",
       "    <tr>\n",
       "      <th>...</th>\n",
       "      <td>...</td>\n",
       "      <td>...</td>\n",
       "      <td>...</td>\n",
       "      <td>...</td>\n",
       "    </tr>\n",
       "    <tr>\n",
       "      <th>2161</th>\n",
       "      <td>238</td>\n",
       "      <td>428</td>\n",
       "      <td>9.1</td>\n",
       "      <td>94</td>\n",
       "    </tr>\n",
       "    <tr>\n",
       "      <th>2162</th>\n",
       "      <td>238</td>\n",
       "      <td>429</td>\n",
       "      <td>9.7</td>\n",
       "      <td>95</td>\n",
       "    </tr>\n",
       "    <tr>\n",
       "      <th>2163</th>\n",
       "      <td>238</td>\n",
       "      <td>430</td>\n",
       "      <td>8.5</td>\n",
       "      <td>96</td>\n",
       "    </tr>\n",
       "    <tr>\n",
       "      <th>2164</th>\n",
       "      <td>238</td>\n",
       "      <td>432</td>\n",
       "      <td>9.9</td>\n",
       "      <td>98</td>\n",
       "    </tr>\n",
       "    <tr>\n",
       "      <th>2165</th>\n",
       "      <td>238</td>\n",
       "      <td>440</td>\n",
       "      <td>10.0</td>\n",
       "      <td>106</td>\n",
       "    </tr>\n",
       "  </tbody>\n",
       "</table>\n",
       "<p>2166 rows × 4 columns</p>\n",
       "</div>"
      ],
      "text/plain": [
       "      Residue A  Residue B   PAE  Residue B_chainB\n",
       "0           120        428  10.0                94\n",
       "1           120        432   9.8                98\n",
       "2           122        425   9.5                91\n",
       "3           122        426   8.3                92\n",
       "4           122        427   9.0                93\n",
       "...         ...        ...   ...               ...\n",
       "2161        238        428   9.1                94\n",
       "2162        238        429   9.7                95\n",
       "2163        238        430   8.5                96\n",
       "2164        238        432   9.9                98\n",
       "2165        238        440  10.0               106\n",
       "\n",
       "[2166 rows x 4 columns]"
      ]
     },
     "execution_count": 20,
     "metadata": {},
     "output_type": "execute_result"
    }
   ],
   "source": [
    "df"
   ]
  },
  {
   "cell_type": "code",
   "execution_count": 31,
   "metadata": {},
   "outputs": [
    {
     "name": "stderr",
     "output_type": "stream",
     "text": [
      "/Users/thibault/miniconda3/envs/peprmint-dev/lib/python3.8/site-packages/Bio/PDB/PDBParser.py:395: PDBConstructionWarning: Ignoring unrecognized record 'TER' at line 2628\n",
      "  warnings.warn(\n",
      "/Users/thibault/miniconda3/envs/peprmint-dev/lib/python3.8/site-packages/Bio/PDB/PDBParser.py:395: PDBConstructionWarning: Ignoring unrecognized record 'END' at line 4038\n",
      "  warnings.warn(\n",
      "100%|██████████| 100/100 [00:03<00:00, 32.41it/s]\n"
     ]
    },
    {
     "data": {
      "application/vnd.jupyter.widget-view+json": {
       "model_id": "8a930fcc150943dcb322806e4a8be86e",
       "version_major": 2,
       "version_minor": 0
      },
      "text/plain": [
       "NGLWidget()"
      ]
     },
     "metadata": {},
     "output_type": "display_data"
    }
   ],
   "source": [
    "structure =None\n",
    "structureFile=\"rank_1_model_3_ptm_seed_0_unrelaxed.pdb\"\n",
    "import numpy as np\n",
    "from Bio import PDB\n",
    "parser = PDB.PDBParser()\n",
    "if structure == None:\n",
    "        structure = parser.get_structure(id='struct', file=structureFile)\n",
    "\n",
    "displayMol = nv.show_biopython(structure)\n",
    "shape = displayMol.shape\n",
    "chain = structure[0].child_list[0].id\n",
    "r1 = structure[0][chain][80]['CA'].get_coord()\n",
    "r2 = structure[0][chain][45]['CA'].get_coord()\n",
    "#display(displayMol)\n",
    "\n",
    "#component 0 = the structure.\n",
    "#other component are stuff you add.\n",
    "for i in tqdm(range(100)):\n",
    "        row = df.iloc[i,]\n",
    "        res1 = int(row[\"Residue A\"])\n",
    "        res2 = int(row[\"Residue B\"])\n",
    "        r1 = structure[0][chain][res1]['CA'].get_coord()\n",
    "        r2 = structure[0][chain][res1]['CA'].get_coord()\n",
    "        shape.add_cylinder(r1,r2,[1,0,0], 0.2)\n",
    "\n",
    "display(displayMol)\n",
    "\n",
    "\n",
    "#displayMol = visualizeur()"
   ]
  },
  {
   "cell_type": "code",
   "execution_count": 25,
   "metadata": {},
   "outputs": [
    {
     "data": {
      "text/plain": [
       "Residue A           120.0\n",
       "Residue B           428.0\n",
       "PAE                  10.0\n",
       "Residue B_chainB     94.0\n",
       "Name: 0, dtype: float64"
      ]
     },
     "execution_count": 25,
     "metadata": {},
     "output_type": "execute_result"
    }
   ],
   "source": [
    "df.iloc[0,]"
   ]
  },
  {
   "cell_type": "code",
   "execution_count": null,
   "metadata": {},
   "outputs": [],
   "source": [
    "structureFolder_widget = FileChooser(\"/Users/thibault/Documents/WORK/peprmint/databases/cath/domains/DEV/\")\n",
    "structureFolder_widget.title=\"Structure folder\"\n",
    "structureFolder_widget.default_path = \"/Users/thibault/Documents/WORK/peprmint/databases/cath/domains/DEV/structures\"\n",
    "structureFolder_widget.show_only_dirs = True"
   ]
  }
 ],
 "metadata": {
  "interpreter": {
   "hash": "d590197a4ad8bf4e7ab710d6fa6a374648ecdeff1f1a332467228ccd6c99434a"
  },
  "kernelspec": {
   "display_name": "Python 3.8.12 ('peprmint-dev')",
   "language": "python",
   "name": "python3"
  },
  "language_info": {
   "codemirror_mode": {
    "name": "ipython",
    "version": 3
   },
   "file_extension": ".py",
   "mimetype": "text/x-python",
   "name": "python",
   "nbconvert_exporter": "python",
   "pygments_lexer": "ipython3",
   "version": "3.8.12"
  },
  "orig_nbformat": 4
 },
 "nbformat": 4,
 "nbformat_minor": 2
}
